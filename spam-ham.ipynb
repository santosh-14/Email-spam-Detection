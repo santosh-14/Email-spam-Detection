{
 "cells": [
  {
   "cell_type": "markdown",
   "id": "0ee0ee3f",
   "metadata": {},
   "source": [
    "# Email spam classifier"
   ]
  },
  {
   "cell_type": "markdown",
   "id": "e67fe38c",
   "metadata": {},
   "source": [
    "## Aim - Predict/Classify new email entered by user as Spam or Not spam using Naive bayes classifier\n",
    "#### Following steps will be followed for achieving the aim:\n",
    "#### 1)Loading of dataset, data cleaning and pre-processing \n",
    "#### 2) text to vector conversion using countvectorizer and tf-idf both to compare results.\n",
    "#### 3) model building using Naive bayes algorithm"
   ]
  },
  {
   "cell_type": "code",
   "execution_count": 1,
   "id": "213111e3",
   "metadata": {},
   "outputs": [],
   "source": [
    "import pandas as pd\n",
    "import numpy as np"
   ]
  },
  {
   "cell_type": "code",
   "execution_count": 2,
   "id": "0151c9e1",
   "metadata": {},
   "outputs": [
    {
     "data": {
      "text/html": [
       "<div>\n",
       "<style scoped>\n",
       "    .dataframe tbody tr th:only-of-type {\n",
       "        vertical-align: middle;\n",
       "    }\n",
       "\n",
       "    .dataframe tbody tr th {\n",
       "        vertical-align: top;\n",
       "    }\n",
       "\n",
       "    .dataframe thead th {\n",
       "        text-align: right;\n",
       "    }\n",
       "</style>\n",
       "<table border=\"1\" class=\"dataframe\">\n",
       "  <thead>\n",
       "    <tr style=\"text-align: right;\">\n",
       "      <th></th>\n",
       "      <th>Unnamed: 0</th>\n",
       "      <th>Body</th>\n",
       "      <th>Label</th>\n",
       "    </tr>\n",
       "  </thead>\n",
       "  <tbody>\n",
       "    <tr>\n",
       "      <th>1545</th>\n",
       "      <td>1545</td>\n",
       "      <td>TR Rehber 6 REKLAMLARINIZA SERVET Ã–DEMEYiN!!!...</td>\n",
       "      <td>1</td>\n",
       "    </tr>\n",
       "    <tr>\n",
       "      <th>2386</th>\n",
       "      <td>2386</td>\n",
       "      <td>Definitional nit to pick:Robert Harley writes:...</td>\n",
       "      <td>0</td>\n",
       "    </tr>\n",
       "    <tr>\n",
       "      <th>3657</th>\n",
       "      <td>3657</td>\n",
       "      <td>use Perl Daily NewsletterIn this issue:\\n    *...</td>\n",
       "      <td>0</td>\n",
       "    </tr>\n",
       "    <tr>\n",
       "      <th>4247</th>\n",
       "      <td>4247</td>\n",
       "      <td>URL: http://boingboing.net/#85534676\\nDate: No...</td>\n",
       "      <td>0</td>\n",
       "    </tr>\n",
       "    <tr>\n",
       "      <th>1054</th>\n",
       "      <td>1054</td>\n",
       "      <td>\\nThe United States has a program, called Dive...</td>\n",
       "      <td>1</td>\n",
       "    </tr>\n",
       "    <tr>\n",
       "      <th>5503</th>\n",
       "      <td>5503</td>\n",
       "      <td>The demographic transition, where birthrates a...</td>\n",
       "      <td>0</td>\n",
       "    </tr>\n",
       "    <tr>\n",
       "      <th>3845</th>\n",
       "      <td>3845</td>\n",
       "      <td>URL: http://www.newsisfree.com/click/-4,643694...</td>\n",
       "      <td>0</td>\n",
       "    </tr>\n",
       "    <tr>\n",
       "      <th>358</th>\n",
       "      <td>358</td>\n",
       "      <td>OFFICE OF:EGNR. FEMI DANIEL\\nFEDERAL MINISTRY ...</td>\n",
       "      <td>1</td>\n",
       "    </tr>\n",
       "    <tr>\n",
       "      <th>4790</th>\n",
       "      <td>4790</td>\n",
       "      <td>John P. Looney wrote:\\n&gt;  I decided to try out...</td>\n",
       "      <td>0</td>\n",
       "    </tr>\n",
       "    <tr>\n",
       "      <th>5359</th>\n",
       "      <td>5359</td>\n",
       "      <td>. . . or eventuality: Bush and Cheney fuck eac...</td>\n",
       "      <td>0</td>\n",
       "    </tr>\n",
       "  </tbody>\n",
       "</table>\n",
       "</div>"
      ],
      "text/plain": [
       "      Unnamed: 0                                               Body  Label\n",
       "1545        1545  TR Rehber 6 REKLAMLARINIZA SERVET Ã–DEMEYiN!!!...      1\n",
       "2386        2386  Definitional nit to pick:Robert Harley writes:...      0\n",
       "3657        3657  use Perl Daily NewsletterIn this issue:\\n    *...      0\n",
       "4247        4247  URL: http://boingboing.net/#85534676\\nDate: No...      0\n",
       "1054        1054  \\nThe United States has a program, called Dive...      1\n",
       "5503        5503  The demographic transition, where birthrates a...      0\n",
       "3845        3845  URL: http://www.newsisfree.com/click/-4,643694...      0\n",
       "358          358  OFFICE OF:EGNR. FEMI DANIEL\\nFEDERAL MINISTRY ...      1\n",
       "4790        4790  John P. Looney wrote:\\n>  I decided to try out...      0\n",
       "5359        5359  . . . or eventuality: Bush and Cheney fuck eac...      0"
      ]
     },
     "execution_count": 2,
     "metadata": {},
     "output_type": "execute_result"
    }
   ],
   "source": [
    "df=pd.read_csv(\"completeSpamAssassin.csv\")\n",
    "df.sample(10)"
   ]
  },
  {
   "cell_type": "code",
   "execution_count": 3,
   "id": "4c1f3981",
   "metadata": {},
   "outputs": [],
   "source": [
    "df.drop(\"Unnamed: 0\",axis=1,inplace=True)"
   ]
  },
  {
   "cell_type": "code",
   "execution_count": 4,
   "id": "16aa7a9e",
   "metadata": {},
   "outputs": [
    {
     "data": {
      "text/html": [
       "<div>\n",
       "<style scoped>\n",
       "    .dataframe tbody tr th:only-of-type {\n",
       "        vertical-align: middle;\n",
       "    }\n",
       "\n",
       "    .dataframe tbody tr th {\n",
       "        vertical-align: top;\n",
       "    }\n",
       "\n",
       "    .dataframe thead th {\n",
       "        text-align: right;\n",
       "    }\n",
       "</style>\n",
       "<table border=\"1\" class=\"dataframe\">\n",
       "  <thead>\n",
       "    <tr style=\"text-align: right;\">\n",
       "      <th></th>\n",
       "      <th>Body</th>\n",
       "      <th>Label</th>\n",
       "    </tr>\n",
       "  </thead>\n",
       "  <tbody>\n",
       "    <tr>\n",
       "      <th>0</th>\n",
       "      <td>\\nSave up to 70% on Life Insurance.\\nWhy Spend...</td>\n",
       "      <td>1</td>\n",
       "    </tr>\n",
       "    <tr>\n",
       "      <th>1</th>\n",
       "      <td>1) Fight The Risk of Cancer!\\nhttp://www.adcli...</td>\n",
       "      <td>1</td>\n",
       "    </tr>\n",
       "    <tr>\n",
       "      <th>2</th>\n",
       "      <td>1) Fight The Risk of Cancer!\\nhttp://www.adcli...</td>\n",
       "      <td>1</td>\n",
       "    </tr>\n",
       "    <tr>\n",
       "      <th>3</th>\n",
       "      <td>##############################################...</td>\n",
       "      <td>1</td>\n",
       "    </tr>\n",
       "    <tr>\n",
       "      <th>4</th>\n",
       "      <td>I thought you might like these:\\n1) Slim Down ...</td>\n",
       "      <td>1</td>\n",
       "    </tr>\n",
       "  </tbody>\n",
       "</table>\n",
       "</div>"
      ],
      "text/plain": [
       "                                                Body  Label\n",
       "0  \\nSave up to 70% on Life Insurance.\\nWhy Spend...      1\n",
       "1  1) Fight The Risk of Cancer!\\nhttp://www.adcli...      1\n",
       "2  1) Fight The Risk of Cancer!\\nhttp://www.adcli...      1\n",
       "3  ##############################################...      1\n",
       "4  I thought you might like these:\\n1) Slim Down ...      1"
      ]
     },
     "execution_count": 4,
     "metadata": {},
     "output_type": "execute_result"
    }
   ],
   "source": [
    "df.head()"
   ]
  },
  {
   "cell_type": "code",
   "execution_count": 5,
   "id": "f831df8f",
   "metadata": {},
   "outputs": [
    {
     "data": {
      "text/plain": [
       "0    4150\n",
       "1    1896\n",
       "Name: Label, dtype: int64"
      ]
     },
     "execution_count": 5,
     "metadata": {},
     "output_type": "execute_result"
    }
   ],
   "source": [
    "df[\"Label\"].value_counts()"
   ]
  },
  {
   "cell_type": "code",
   "execution_count": 6,
   "id": "70c17887",
   "metadata": {},
   "outputs": [
    {
     "data": {
      "text/plain": [
       "752"
      ]
     },
     "execution_count": 6,
     "metadata": {},
     "output_type": "execute_result"
    }
   ],
   "source": [
    "df.duplicated().sum()"
   ]
  },
  {
   "cell_type": "code",
   "execution_count": 7,
   "id": "c7366477",
   "metadata": {},
   "outputs": [
    {
     "name": "stdout",
     "output_type": "stream",
     "text": [
      "<class 'pandas.core.frame.DataFrame'>\n",
      "RangeIndex: 6046 entries, 0 to 6045\n",
      "Data columns (total 2 columns):\n",
      " #   Column  Non-Null Count  Dtype \n",
      "---  ------  --------------  ----- \n",
      " 0   Body    6045 non-null   object\n",
      " 1   Label   6046 non-null   int64 \n",
      "dtypes: int64(1), object(1)\n",
      "memory usage: 94.6+ KB\n"
     ]
    }
   ],
   "source": [
    "df.info()"
   ]
  },
  {
   "cell_type": "code",
   "execution_count": 8,
   "id": "befeebae",
   "metadata": {},
   "outputs": [],
   "source": [
    "df.drop_duplicates(keep=\"first\",inplace=True)"
   ]
  },
  {
   "cell_type": "code",
   "execution_count": 9,
   "id": "2a60c751",
   "metadata": {},
   "outputs": [
    {
     "name": "stdout",
     "output_type": "stream",
     "text": [
      "<class 'pandas.core.frame.DataFrame'>\n",
      "Int64Index: 5294 entries, 0 to 6043\n",
      "Data columns (total 2 columns):\n",
      " #   Column  Non-Null Count  Dtype \n",
      "---  ------  --------------  ----- \n",
      " 0   Body    5293 non-null   object\n",
      " 1   Label   5294 non-null   int64 \n",
      "dtypes: int64(1), object(1)\n",
      "memory usage: 124.1+ KB\n"
     ]
    }
   ],
   "source": [
    "df.info()"
   ]
  },
  {
   "cell_type": "code",
   "execution_count": 10,
   "id": "afee938e",
   "metadata": {},
   "outputs": [
    {
     "data": {
      "text/plain": [
       "0    3915\n",
       "1    1379\n",
       "Name: Label, dtype: int64"
      ]
     },
     "execution_count": 10,
     "metadata": {},
     "output_type": "execute_result"
    }
   ],
   "source": [
    "df[\"Label\"].value_counts()"
   ]
  },
  {
   "cell_type": "code",
   "execution_count": 11,
   "id": "b3672b6a",
   "metadata": {},
   "outputs": [
    {
     "data": {
      "text/plain": [
       "Body     1\n",
       "Label    0\n",
       "dtype: int64"
      ]
     },
     "execution_count": 11,
     "metadata": {},
     "output_type": "execute_result"
    }
   ],
   "source": [
    "df.isnull().sum()"
   ]
  },
  {
   "cell_type": "code",
   "execution_count": 12,
   "id": "8ac9dd59",
   "metadata": {},
   "outputs": [],
   "source": [
    "df.dropna(inplace=True)"
   ]
  },
  {
   "cell_type": "code",
   "execution_count": 13,
   "id": "5791c812",
   "metadata": {},
   "outputs": [
    {
     "data": {
      "text/plain": [
       "Body     0\n",
       "Label    0\n",
       "dtype: int64"
      ]
     },
     "execution_count": 13,
     "metadata": {},
     "output_type": "execute_result"
    }
   ],
   "source": [
    "df.isnull().sum()"
   ]
  },
  {
   "cell_type": "markdown",
   "id": "1fdd518a",
   "metadata": {},
   "source": [
    "# EDA"
   ]
  },
  {
   "cell_type": "code",
   "execution_count": 14,
   "id": "6df8d9f0",
   "metadata": {},
   "outputs": [],
   "source": [
    "import matplotlib.pyplot as plt"
   ]
  },
  {
   "cell_type": "code",
   "execution_count": 15,
   "id": "a6223c62",
   "metadata": {},
   "outputs": [
    {
     "data": {
      "image/png": "[encoded data removed]",
      "text/plain": [
       "<Figure size 432x288 with 1 Axes>"
      ]
     },
     "metadata": {},
     "output_type": "display_data"
    }
   ],
   "source": [
    "df[\"Label\"].value_counts().plot(kind=\"pie\",labels=[\"ham\",\"spam\"],autopct=\"%0.2f\")\n",
    "plt.show()"
   ]
  },
  {
   "cell_type": "code",
   "execution_count": 16,
   "id": "e7bffed7",
   "metadata": {},
   "outputs": [],
   "source": [
    "# data is imbalaced we cannot depend on accuracy,we will consider precision"
   ]
  },
  {
   "cell_type": "code",
   "execution_count": 17,
   "id": "e12c862d",
   "metadata": {},
   "outputs": [],
   "source": [
    "import nltk"
   ]
  },
  {
   "cell_type": "code",
   "execution_count": 18,
   "id": "85fedc73",
   "metadata": {},
   "outputs": [],
   "source": [
    "df[\"num_chars\"]=df[\"Body\"].apply(len)"
   ]
  },
  {
   "cell_type": "code",
   "execution_count": 19,
   "id": "c714824f",
   "metadata": {},
   "outputs": [
    {
     "data": {
      "text/html": [
       "<div>\n",
       "<style scoped>\n",
       "    .dataframe tbody tr th:only-of-type {\n",
       "        vertical-align: middle;\n",
       "    }\n",
       "\n",
       "    .dataframe tbody tr th {\n",
       "        vertical-align: top;\n",
       "    }\n",
       "\n",
       "    .dataframe thead th {\n",
       "        text-align: right;\n",
       "    }\n",
       "</style>\n",
       "<table border=\"1\" class=\"dataframe\">\n",
       "  <thead>\n",
       "    <tr style=\"text-align: right;\">\n",
       "      <th></th>\n",
       "      <th>Body</th>\n",
       "      <th>Label</th>\n",
       "      <th>num_chars</th>\n",
       "    </tr>\n",
       "  </thead>\n",
       "  <tbody>\n",
       "    <tr>\n",
       "      <th>0</th>\n",
       "      <td>\\nSave up to 70% on Life Insurance.\\nWhy Spend...</td>\n",
       "      <td>1</td>\n",
       "      <td>1111</td>\n",
       "    </tr>\n",
       "    <tr>\n",
       "      <th>1</th>\n",
       "      <td>1) Fight The Risk of Cancer!\\nhttp://www.adcli...</td>\n",
       "      <td>1</td>\n",
       "      <td>753</td>\n",
       "    </tr>\n",
       "    <tr>\n",
       "      <th>2</th>\n",
       "      <td>1) Fight The Risk of Cancer!\\nhttp://www.adcli...</td>\n",
       "      <td>1</td>\n",
       "      <td>610</td>\n",
       "    </tr>\n",
       "    <tr>\n",
       "      <th>3</th>\n",
       "      <td>##############################################...</td>\n",
       "      <td>1</td>\n",
       "      <td>2863</td>\n",
       "    </tr>\n",
       "    <tr>\n",
       "      <th>4</th>\n",
       "      <td>I thought you might like these:\\n1) Slim Down ...</td>\n",
       "      <td>1</td>\n",
       "      <td>641</td>\n",
       "    </tr>\n",
       "  </tbody>\n",
       "</table>\n",
       "</div>"
      ],
      "text/plain": [
       "                                                Body  Label  num_chars\n",
       "0  \\nSave up to 70% on Life Insurance.\\nWhy Spend...      1       1111\n",
       "1  1) Fight The Risk of Cancer!\\nhttp://www.adcli...      1        753\n",
       "2  1) Fight The Risk of Cancer!\\nhttp://www.adcli...      1        610\n",
       "3  ##############################################...      1       2863\n",
       "4  I thought you might like these:\\n1) Slim Down ...      1        641"
      ]
     },
     "execution_count": 19,
     "metadata": {},
     "output_type": "execute_result"
    }
   ],
   "source": [
    "df.head()"
   ]
  },
  {
   "cell_type": "code",
   "execution_count": 20,
   "id": "cb77b362",
   "metadata": {},
   "outputs": [],
   "source": [
    "df[\"num_words\"]=df[\"Body\"].apply(lambda x:len(nltk.word_tokenize(x)))"
   ]
  },
  {
   "cell_type": "code",
   "execution_count": 21,
   "id": "e5c9e0ee",
   "metadata": {},
   "outputs": [],
   "source": [
    "df[\"num_sents\"]=df[\"Body\"].apply(lambda x:len(nltk.sent_tokenize(x)))"
   ]
  },
  {
   "cell_type": "code",
   "execution_count": 22,
   "id": "7170047d",
   "metadata": {},
   "outputs": [
    {
     "data": {
      "text/html": [
       "<div>\n",
       "<style scoped>\n",
       "    .dataframe tbody tr th:only-of-type {\n",
       "        vertical-align: middle;\n",
       "    }\n",
       "\n",
       "    .dataframe tbody tr th {\n",
       "        vertical-align: top;\n",
       "    }\n",
       "\n",
       "    .dataframe thead th {\n",
       "        text-align: right;\n",
       "    }\n",
       "</style>\n",
       "<table border=\"1\" class=\"dataframe\">\n",
       "  <thead>\n",
       "    <tr style=\"text-align: right;\">\n",
       "      <th></th>\n",
       "      <th>Body</th>\n",
       "      <th>Label</th>\n",
       "      <th>num_chars</th>\n",
       "      <th>num_words</th>\n",
       "      <th>num_sents</th>\n",
       "    </tr>\n",
       "  </thead>\n",
       "  <tbody>\n",
       "    <tr>\n",
       "      <th>0</th>\n",
       "      <td>\\nSave up to 70% on Life Insurance.\\nWhy Spend...</td>\n",
       "      <td>1</td>\n",
       "      <td>1111</td>\n",
       "      <td>191</td>\n",
       "      <td>12</td>\n",
       "    </tr>\n",
       "    <tr>\n",
       "      <th>1</th>\n",
       "      <td>1) Fight The Risk of Cancer!\\nhttp://www.adcli...</td>\n",
       "      <td>1</td>\n",
       "      <td>753</td>\n",
       "      <td>139</td>\n",
       "      <td>5</td>\n",
       "    </tr>\n",
       "    <tr>\n",
       "      <th>2</th>\n",
       "      <td>1) Fight The Risk of Cancer!\\nhttp://www.adcli...</td>\n",
       "      <td>1</td>\n",
       "      <td>610</td>\n",
       "      <td>113</td>\n",
       "      <td>4</td>\n",
       "    </tr>\n",
       "    <tr>\n",
       "      <th>3</th>\n",
       "      <td>##############################################...</td>\n",
       "      <td>1</td>\n",
       "      <td>2863</td>\n",
       "      <td>690</td>\n",
       "      <td>35</td>\n",
       "    </tr>\n",
       "    <tr>\n",
       "      <th>4</th>\n",
       "      <td>I thought you might like these:\\n1) Slim Down ...</td>\n",
       "      <td>1</td>\n",
       "      <td>641</td>\n",
       "      <td>108</td>\n",
       "      <td>4</td>\n",
       "    </tr>\n",
       "  </tbody>\n",
       "</table>\n",
       "</div>"
      ],
      "text/plain": [
       "                                                Body  Label  num_chars  \\\n",
       "0  \\nSave up to 70% on Life Insurance.\\nWhy Spend...      1       1111   \n",
       "1  1) Fight The Risk of Cancer!\\nhttp://www.adcli...      1        753   \n",
       "2  1) Fight The Risk of Cancer!\\nhttp://www.adcli...      1        610   \n",
       "3  ##############################################...      1       2863   \n",
       "4  I thought you might like these:\\n1) Slim Down ...      1        641   \n",
       "\n",
       "   num_words  num_sents  \n",
       "0        191         12  \n",
       "1        139          5  \n",
       "2        113          4  \n",
       "3        690         35  \n",
       "4        108          4  "
      ]
     },
     "execution_count": 22,
     "metadata": {},
     "output_type": "execute_result"
    }
   ],
   "source": [
    "df.head()"
   ]
  },
  {
   "cell_type": "code",
   "execution_count": 23,
   "id": "0f761218",
   "metadata": {},
   "outputs": [
    {
     "data": {
      "text/html": [
       "<div>\n",
       "<style scoped>\n",
       "    .dataframe tbody tr th:only-of-type {\n",
       "        vertical-align: middle;\n",
       "    }\n",
       "\n",
       "    .dataframe tbody tr th {\n",
       "        vertical-align: top;\n",
       "    }\n",
       "\n",
       "    .dataframe thead th {\n",
       "        text-align: right;\n",
       "    }\n",
       "</style>\n",
       "<table border=\"1\" class=\"dataframe\">\n",
       "  <thead>\n",
       "    <tr style=\"text-align: right;\">\n",
       "      <th></th>\n",
       "      <th>num_chars</th>\n",
       "      <th>num_words</th>\n",
       "      <th>num_sents</th>\n",
       "    </tr>\n",
       "  </thead>\n",
       "  <tbody>\n",
       "    <tr>\n",
       "      <th>count</th>\n",
       "      <td>5293.000000</td>\n",
       "      <td>5293.000000</td>\n",
       "      <td>5293.000000</td>\n",
       "    </tr>\n",
       "    <tr>\n",
       "      <th>mean</th>\n",
       "      <td>1947.724164</td>\n",
       "      <td>363.437181</td>\n",
       "      <td>12.778009</td>\n",
       "    </tr>\n",
       "    <tr>\n",
       "      <th>std</th>\n",
       "      <td>5228.745045</td>\n",
       "      <td>804.169344</td>\n",
       "      <td>27.965797</td>\n",
       "    </tr>\n",
       "    <tr>\n",
       "      <th>min</th>\n",
       "      <td>1.000000</td>\n",
       "      <td>0.000000</td>\n",
       "      <td>0.000000</td>\n",
       "    </tr>\n",
       "    <tr>\n",
       "      <th>25%</th>\n",
       "      <td>561.000000</td>\n",
       "      <td>105.000000</td>\n",
       "      <td>4.000000</td>\n",
       "    </tr>\n",
       "    <tr>\n",
       "      <th>50%</th>\n",
       "      <td>1005.000000</td>\n",
       "      <td>192.000000</td>\n",
       "      <td>7.000000</td>\n",
       "    </tr>\n",
       "    <tr>\n",
       "      <th>75%</th>\n",
       "      <td>1751.000000</td>\n",
       "      <td>346.000000</td>\n",
       "      <td>12.000000</td>\n",
       "    </tr>\n",
       "    <tr>\n",
       "      <th>max</th>\n",
       "      <td>194978.000000</td>\n",
       "      <td>18564.000000</td>\n",
       "      <td>808.000000</td>\n",
       "    </tr>\n",
       "  </tbody>\n",
       "</table>\n",
       "</div>"
      ],
      "text/plain": [
       "           num_chars     num_words    num_sents\n",
       "count    5293.000000   5293.000000  5293.000000\n",
       "mean     1947.724164    363.437181    12.778009\n",
       "std      5228.745045    804.169344    27.965797\n",
       "min         1.000000      0.000000     0.000000\n",
       "25%       561.000000    105.000000     4.000000\n",
       "50%      1005.000000    192.000000     7.000000\n",
       "75%      1751.000000    346.000000    12.000000\n",
       "max    194978.000000  18564.000000   808.000000"
      ]
     },
     "execution_count": 23,
     "metadata": {},
     "output_type": "execute_result"
    }
   ],
   "source": [
    "df[[\"num_chars\",\"num_words\",\"num_sents\"]].describe()"
   ]
  },
  {
   "cell_type": "code",
   "execution_count": 24,
   "id": "e1e70cd7",
   "metadata": {},
   "outputs": [
    {
     "data": {
      "text/html": [
       "<div>\n",
       "<style scoped>\n",
       "    .dataframe tbody tr th:only-of-type {\n",
       "        vertical-align: middle;\n",
       "    }\n",
       "\n",
       "    .dataframe tbody tr th {\n",
       "        vertical-align: top;\n",
       "    }\n",
       "\n",
       "    .dataframe thead th {\n",
       "        text-align: right;\n",
       "    }\n",
       "</style>\n",
       "<table border=\"1\" class=\"dataframe\">\n",
       "  <thead>\n",
       "    <tr style=\"text-align: right;\">\n",
       "      <th></th>\n",
       "      <th>num_chars</th>\n",
       "      <th>num_words</th>\n",
       "      <th>num_sents</th>\n",
       "    </tr>\n",
       "  </thead>\n",
       "  <tbody>\n",
       "    <tr>\n",
       "      <th>count</th>\n",
       "      <td>3915.000000</td>\n",
       "      <td>3915.000000</td>\n",
       "      <td>3915.000000</td>\n",
       "    </tr>\n",
       "    <tr>\n",
       "      <th>mean</th>\n",
       "      <td>1792.657471</td>\n",
       "      <td>340.491443</td>\n",
       "      <td>11.449042</td>\n",
       "    </tr>\n",
       "    <tr>\n",
       "      <th>std</th>\n",
       "      <td>5025.721947</td>\n",
       "      <td>776.134680</td>\n",
       "      <td>26.049364</td>\n",
       "    </tr>\n",
       "    <tr>\n",
       "      <th>min</th>\n",
       "      <td>5.000000</td>\n",
       "      <td>1.000000</td>\n",
       "      <td>1.000000</td>\n",
       "    </tr>\n",
       "    <tr>\n",
       "      <th>25%</th>\n",
       "      <td>522.000000</td>\n",
       "      <td>97.000000</td>\n",
       "      <td>3.500000</td>\n",
       "    </tr>\n",
       "    <tr>\n",
       "      <th>50%</th>\n",
       "      <td>960.000000</td>\n",
       "      <td>189.000000</td>\n",
       "      <td>6.000000</td>\n",
       "    </tr>\n",
       "    <tr>\n",
       "      <th>75%</th>\n",
       "      <td>1650.000000</td>\n",
       "      <td>328.000000</td>\n",
       "      <td>11.000000</td>\n",
       "    </tr>\n",
       "    <tr>\n",
       "      <th>max</th>\n",
       "      <td>194978.000000</td>\n",
       "      <td>18564.000000</td>\n",
       "      <td>808.000000</td>\n",
       "    </tr>\n",
       "  </tbody>\n",
       "</table>\n",
       "</div>"
      ],
      "text/plain": [
       "           num_chars     num_words    num_sents\n",
       "count    3915.000000   3915.000000  3915.000000\n",
       "mean     1792.657471    340.491443    11.449042\n",
       "std      5025.721947    776.134680    26.049364\n",
       "min         5.000000      1.000000     1.000000\n",
       "25%       522.000000     97.000000     3.500000\n",
       "50%       960.000000    189.000000     6.000000\n",
       "75%      1650.000000    328.000000    11.000000\n",
       "max    194978.000000  18564.000000   808.000000"
      ]
     },
     "execution_count": 24,
     "metadata": {},
     "output_type": "execute_result"
    }
   ],
   "source": [
    "df[df[\"Label\"]==0][[\"num_chars\",\"num_words\",\"num_sents\"]].describe()"
   ]
  },
  {
   "cell_type": "code",
   "execution_count": 25,
   "id": "a160bf42",
   "metadata": {},
   "outputs": [
    {
     "data": {
      "text/html": [
       "<div>\n",
       "<style scoped>\n",
       "    .dataframe tbody tr th:only-of-type {\n",
       "        vertical-align: middle;\n",
       "    }\n",
       "\n",
       "    .dataframe tbody tr th {\n",
       "        vertical-align: top;\n",
       "    }\n",
       "\n",
       "    .dataframe thead th {\n",
       "        text-align: right;\n",
       "    }\n",
       "</style>\n",
       "<table border=\"1\" class=\"dataframe\">\n",
       "  <thead>\n",
       "    <tr style=\"text-align: right;\">\n",
       "      <th></th>\n",
       "      <th>num_chars</th>\n",
       "      <th>num_words</th>\n",
       "      <th>num_sents</th>\n",
       "    </tr>\n",
       "  </thead>\n",
       "  <tbody>\n",
       "    <tr>\n",
       "      <th>count</th>\n",
       "      <td>1378.000000</td>\n",
       "      <td>1378.000000</td>\n",
       "      <td>1378.000000</td>\n",
       "    </tr>\n",
       "    <tr>\n",
       "      <th>mean</th>\n",
       "      <td>2388.280116</td>\n",
       "      <td>428.627721</td>\n",
       "      <td>16.553701</td>\n",
       "    </tr>\n",
       "    <tr>\n",
       "      <th>std</th>\n",
       "      <td>5745.835985</td>\n",
       "      <td>875.977347</td>\n",
       "      <td>32.520800</td>\n",
       "    </tr>\n",
       "    <tr>\n",
       "      <th>min</th>\n",
       "      <td>1.000000</td>\n",
       "      <td>0.000000</td>\n",
       "      <td>0.000000</td>\n",
       "    </tr>\n",
       "    <tr>\n",
       "      <th>25%</th>\n",
       "      <td>675.250000</td>\n",
       "      <td>120.000000</td>\n",
       "      <td>5.000000</td>\n",
       "    </tr>\n",
       "    <tr>\n",
       "      <th>50%</th>\n",
       "      <td>1094.500000</td>\n",
       "      <td>201.000000</td>\n",
       "      <td>9.000000</td>\n",
       "    </tr>\n",
       "    <tr>\n",
       "      <th>75%</th>\n",
       "      <td>2168.000000</td>\n",
       "      <td>408.500000</td>\n",
       "      <td>15.000000</td>\n",
       "    </tr>\n",
       "    <tr>\n",
       "      <th>max</th>\n",
       "      <td>129635.000000</td>\n",
       "      <td>13288.000000</td>\n",
       "      <td>404.000000</td>\n",
       "    </tr>\n",
       "  </tbody>\n",
       "</table>\n",
       "</div>"
      ],
      "text/plain": [
       "           num_chars     num_words    num_sents\n",
       "count    1378.000000   1378.000000  1378.000000\n",
       "mean     2388.280116    428.627721    16.553701\n",
       "std      5745.835985    875.977347    32.520800\n",
       "min         1.000000      0.000000     0.000000\n",
       "25%       675.250000    120.000000     5.000000\n",
       "50%      1094.500000    201.000000     9.000000\n",
       "75%      2168.000000    408.500000    15.000000\n",
       "max    129635.000000  13288.000000   404.000000"
      ]
     },
     "execution_count": 25,
     "metadata": {},
     "output_type": "execute_result"
    }
   ],
   "source": [
    "df[df[\"Label\"]==1][[\"num_chars\",\"num_words\",\"num_sents\"]].describe()"
   ]
  },
  {
   "cell_type": "code",
   "execution_count": 26,
   "id": "c82babff",
   "metadata": {},
   "outputs": [
    {
     "data": {
      "image/png": "[encoded data removed]",
      "text/plain": [
       "<Figure size 1440x720 with 1 Axes>"
      ]
     },
     "metadata": {
      "needs_background": "light"
     },
     "output_type": "display_data"
    }
   ],
   "source": [
    "import seaborn as sns\n",
    "plt.figure(figsize=(20,10))\n",
    "sns.histplot(df[df[\"Label\"]==1][\"num_words\"],color=\"red\")\n",
    "sns.histplot(df[df[\"Label\"]==0][\"num_words\"])\n",
    "plt.show()"
   ]
  },
  {
   "cell_type": "code",
   "execution_count": 27,
   "id": "3106b1f5",
   "metadata": {},
   "outputs": [
    {
     "data": {
      "image/png": "[encoded data removed]",
      "text/plain": [
       "<Figure size 1440x720 with 1 Axes>"
      ]
     },
     "metadata": {
      "needs_background": "light"
     },
     "output_type": "display_data"
    }
   ],
   "source": [
    "plt.figure(figsize=(20,10))\n",
    "sns.histplot(df[df[\"Label\"]==1][\"num_chars\"],color=\"red\")\n",
    "sns.histplot(df[df[\"Label\"]==0][\"num_chars\"])\n",
    "plt.show()"
   ]
  },
  {
   "cell_type": "code",
   "execution_count": 28,
   "id": "5aed69ca",
   "metadata": {},
   "outputs": [],
   "source": [
    "# no. of words used in spam mails are comparitively larger than ham mails."
   ]
  },
  {
   "cell_type": "code",
   "execution_count": 29,
   "id": "aedcd0cd",
   "metadata": {},
   "outputs": [
    {
     "data": {
      "text/plain": [
       "<seaborn.axisgrid.PairGrid at 0x2597d0623d0>"
      ]
     },
     "execution_count": 29,
     "metadata": {},
     "output_type": "execute_result"
    },
    {
     "data": {
      "image/png": "[encoded data removed]",
      "text/plain": [
       "<Figure size 582.375x540 with 12 Axes>"
      ]
     },
     "metadata": {
      "needs_background": "light"
     },
     "output_type": "display_data"
    }
   ],
   "source": [
    "sns.pairplot(df,hue=\"Label\")"
   ]
  },
  {
   "cell_type": "code",
   "execution_count": 30,
   "id": "46c74894",
   "metadata": {},
   "outputs": [
    {
     "data": {
      "text/plain": [
       "<AxesSubplot:>"
      ]
     },
     "execution_count": 30,
     "metadata": {},
     "output_type": "execute_result"
    },
    {
     "data": {
      "image/png": "[encoded data removed]",
      "text/plain": [
       "<Figure size 432x288 with 2 Axes>"
      ]
     },
     "metadata": {
      "needs_background": "light"
     },
     "output_type": "display_data"
    }
   ],
   "source": [
    "sns.heatmap(df.corr(),annot=True)"
   ]
  },
  {
   "cell_type": "markdown",
   "id": "1027be3b",
   "metadata": {},
   "source": [
    "# Data preprocessing"
   ]
  },
  {
   "cell_type": "code",
   "execution_count": 31,
   "id": "e0f78ac2",
   "metadata": {},
   "outputs": [
    {
     "data": {
      "text/plain": [
       "['i',\n",
       " 'me',\n",
       " 'my',\n",
       " 'myself',\n",
       " 'we',\n",
       " 'our',\n",
       " 'ours',\n",
       " 'ourselves',\n",
       " 'you',\n",
       " \"you're\",\n",
       " \"you've\",\n",
       " \"you'll\",\n",
       " \"you'd\",\n",
       " 'your',\n",
       " 'yours',\n",
       " 'yourself',\n",
       " 'yourselves',\n",
       " 'he',\n",
       " 'him',\n",
       " 'his',\n",
       " 'himself',\n",
       " 'she',\n",
       " \"she's\",\n",
       " 'her',\n",
       " 'hers',\n",
       " 'herself',\n",
       " 'it',\n",
       " \"it's\",\n",
       " 'its',\n",
       " 'itself',\n",
       " 'they',\n",
       " 'them',\n",
       " 'their',\n",
       " 'theirs',\n",
       " 'themselves',\n",
       " 'what',\n",
       " 'which',\n",
       " 'who',\n",
       " 'whom',\n",
       " 'this',\n",
       " 'that',\n",
       " \"that'll\",\n",
       " 'these',\n",
       " 'those',\n",
       " 'am',\n",
       " 'is',\n",
       " 'are',\n",
       " 'was',\n",
       " 'were',\n",
       " 'be',\n",
       " 'been',\n",
       " 'being',\n",
       " 'have',\n",
       " 'has',\n",
       " 'had',\n",
       " 'having',\n",
       " 'do',\n",
       " 'does',\n",
       " 'did',\n",
       " 'doing',\n",
       " 'a',\n",
       " 'an',\n",
       " 'the',\n",
       " 'and',\n",
       " 'but',\n",
       " 'if',\n",
       " 'or',\n",
       " 'because',\n",
       " 'as',\n",
       " 'until',\n",
       " 'while',\n",
       " 'of',\n",
       " 'at',\n",
       " 'by',\n",
       " 'for',\n",
       " 'with',\n",
       " 'about',\n",
       " 'against',\n",
       " 'between',\n",
       " 'into',\n",
       " 'through',\n",
       " 'during',\n",
       " 'before',\n",
       " 'after',\n",
       " 'above',\n",
       " 'below',\n",
       " 'to',\n",
       " 'from',\n",
       " 'up',\n",
       " 'down',\n",
       " 'in',\n",
       " 'out',\n",
       " 'on',\n",
       " 'off',\n",
       " 'over',\n",
       " 'under',\n",
       " 'again',\n",
       " 'further',\n",
       " 'then',\n",
       " 'once',\n",
       " 'here',\n",
       " 'there',\n",
       " 'when',\n",
       " 'where',\n",
       " 'why',\n",
       " 'how',\n",
       " 'all',\n",
       " 'any',\n",
       " 'both',\n",
       " 'each',\n",
       " 'few',\n",
       " 'more',\n",
       " 'most',\n",
       " 'other',\n",
       " 'some',\n",
       " 'such',\n",
       " 'no',\n",
       " 'nor',\n",
       " 'not',\n",
       " 'only',\n",
       " 'own',\n",
       " 'same',\n",
       " 'so',\n",
       " 'than',\n",
       " 'too',\n",
       " 'very',\n",
       " 's',\n",
       " 't',\n",
       " 'can',\n",
       " 'will',\n",
       " 'just',\n",
       " 'don',\n",
       " \"don't\",\n",
       " 'should',\n",
       " \"should've\",\n",
       " 'now',\n",
       " 'd',\n",
       " 'll',\n",
       " 'm',\n",
       " 'o',\n",
       " 're',\n",
       " 've',\n",
       " 'y',\n",
       " 'ain',\n",
       " 'aren',\n",
       " \"aren't\",\n",
       " 'couldn',\n",
       " \"couldn't\",\n",
       " 'didn',\n",
       " \"didn't\",\n",
       " 'doesn',\n",
       " \"doesn't\",\n",
       " 'hadn',\n",
       " \"hadn't\",\n",
       " 'hasn',\n",
       " \"hasn't\",\n",
       " 'haven',\n",
       " \"haven't\",\n",
       " 'isn',\n",
       " \"isn't\",\n",
       " 'ma',\n",
       " 'mightn',\n",
       " \"mightn't\",\n",
       " 'mustn',\n",
       " \"mustn't\",\n",
       " 'needn',\n",
       " \"needn't\",\n",
       " 'shan',\n",
       " \"shan't\",\n",
       " 'shouldn',\n",
       " \"shouldn't\",\n",
       " 'wasn',\n",
       " \"wasn't\",\n",
       " 'weren',\n",
       " \"weren't\",\n",
       " 'won',\n",
       " \"won't\",\n",
       " 'wouldn',\n",
       " \"wouldn't\"]"
      ]
     },
     "execution_count": 31,
     "metadata": {},
     "output_type": "execute_result"
    }
   ],
   "source": [
    "import string\n",
    "from nltk.corpus import stopwords\n",
    "stopwords.words(\"english\")"
   ]
  },
  {
   "cell_type": "code",
   "execution_count": 32,
   "id": "d33cd03a",
   "metadata": {},
   "outputs": [
    {
     "data": {
      "text/plain": [
       "'work'"
      ]
     },
     "execution_count": 32,
     "metadata": {},
     "output_type": "execute_result"
    }
   ],
   "source": [
    "from nltk.stem.porter import PorterStemmer\n",
    "ps=PorterStemmer()\n",
    "ps.stem(\"working\")"
   ]
  },
  {
   "cell_type": "code",
   "execution_count": 33,
   "id": "506adfdd",
   "metadata": {},
   "outputs": [],
   "source": [
    "def transform(x):\n",
    "    x=x.lower()\n",
    "    #for converting text to list for further transformation\n",
    "    x=nltk.word_tokenize(x)\n",
    "    \n",
    "    # fordropping words other than alpganumeric\n",
    "    l=[]\n",
    "    for i in x:\n",
    "        if i.isalnum():\n",
    "            l.append(i)\n",
    "    # for removing stopwords\n",
    "    x=l[:]\n",
    "    l.clear()\n",
    "    for i in x:\n",
    "        if i not in string.punctuation and i not in stopwords.words(\"english\"):\n",
    "            l.append(i)\n",
    "    # for stemming\n",
    "    x=l[:]\n",
    "    l.clear()\n",
    "    for i in x:\n",
    "        l.append(ps.stem(i))\n",
    "    return \" \".join(l)\n",
    "        "
   ]
  },
  {
   "cell_type": "code",
   "execution_count": 34,
   "id": "6e94e31e",
   "metadata": {},
   "outputs": [
    {
     "data": {
      "text/plain": [
       "'plase tell real name'"
      ]
     },
     "execution_count": 34,
     "metadata": {},
     "output_type": "execute_result"
    }
   ],
   "source": [
    "transform('plase tell me, what is your real name')"
   ]
  },
  {
   "cell_type": "code",
   "execution_count": 35,
   "id": "090950af",
   "metadata": {},
   "outputs": [],
   "source": [
    "df[\"new_body\"]=df[\"Body\"].apply(transform)"
   ]
  },
  {
   "cell_type": "code",
   "execution_count": 36,
   "id": "18362965",
   "metadata": {},
   "outputs": [
    {
     "data": {
      "text/html": [
       "<div>\n",
       "<style scoped>\n",
       "    .dataframe tbody tr th:only-of-type {\n",
       "        vertical-align: middle;\n",
       "    }\n",
       "\n",
       "    .dataframe tbody tr th {\n",
       "        vertical-align: top;\n",
       "    }\n",
       "\n",
       "    .dataframe thead th {\n",
       "        text-align: right;\n",
       "    }\n",
       "</style>\n",
       "<table border=\"1\" class=\"dataframe\">\n",
       "  <thead>\n",
       "    <tr style=\"text-align: right;\">\n",
       "      <th></th>\n",
       "      <th>Body</th>\n",
       "      <th>Label</th>\n",
       "      <th>num_chars</th>\n",
       "      <th>num_words</th>\n",
       "      <th>num_sents</th>\n",
       "      <th>new_body</th>\n",
       "    </tr>\n",
       "  </thead>\n",
       "  <tbody>\n",
       "    <tr>\n",
       "      <th>0</th>\n",
       "      <td>\\nSave up to 70% on Life Insurance.\\nWhy Spend...</td>\n",
       "      <td>1</td>\n",
       "      <td>1111</td>\n",
       "      <td>191</td>\n",
       "      <td>12</td>\n",
       "      <td>save 70 life insur spend life quot save ensur ...</td>\n",
       "    </tr>\n",
       "    <tr>\n",
       "      <th>1</th>\n",
       "      <td>1) Fight The Risk of Cancer!\\nhttp://www.adcli...</td>\n",
       "      <td>1</td>\n",
       "      <td>753</td>\n",
       "      <td>139</td>\n",
       "      <td>5</td>\n",
       "      <td>1 fight risk cancer http slim guarante lose lb...</td>\n",
       "    </tr>\n",
       "    <tr>\n",
       "      <th>2</th>\n",
       "      <td>1) Fight The Risk of Cancer!\\nhttp://www.adcli...</td>\n",
       "      <td>1</td>\n",
       "      <td>610</td>\n",
       "      <td>113</td>\n",
       "      <td>4</td>\n",
       "      <td>1 fight risk cancer http slim guarante lose lb...</td>\n",
       "    </tr>\n",
       "    <tr>\n",
       "      <th>3</th>\n",
       "      <td>##############################################...</td>\n",
       "      <td>1</td>\n",
       "      <td>2863</td>\n",
       "      <td>690</td>\n",
       "      <td>35</td>\n",
       "      <td>adult club offer free membership instant acces...</td>\n",
       "    </tr>\n",
       "    <tr>\n",
       "      <th>4</th>\n",
       "      <td>I thought you might like these:\\n1) Slim Down ...</td>\n",
       "      <td>1</td>\n",
       "      <td>641</td>\n",
       "      <td>108</td>\n",
       "      <td>4</td>\n",
       "      <td>thought might like 1 slim guarante lose lb 30 ...</td>\n",
       "    </tr>\n",
       "  </tbody>\n",
       "</table>\n",
       "</div>"
      ],
      "text/plain": [
       "                                                Body  Label  num_chars  \\\n",
       "0  \\nSave up to 70% on Life Insurance.\\nWhy Spend...      1       1111   \n",
       "1  1) Fight The Risk of Cancer!\\nhttp://www.adcli...      1        753   \n",
       "2  1) Fight The Risk of Cancer!\\nhttp://www.adcli...      1        610   \n",
       "3  ##############################################...      1       2863   \n",
       "4  I thought you might like these:\\n1) Slim Down ...      1        641   \n",
       "\n",
       "   num_words  num_sents                                           new_body  \n",
       "0        191         12  save 70 life insur spend life quot save ensur ...  \n",
       "1        139          5  1 fight risk cancer http slim guarante lose lb...  \n",
       "2        113          4  1 fight risk cancer http slim guarante lose lb...  \n",
       "3        690         35  adult club offer free membership instant acces...  \n",
       "4        108          4  thought might like 1 slim guarante lose lb 30 ...  "
      ]
     },
     "execution_count": 36,
     "metadata": {},
     "output_type": "execute_result"
    }
   ],
   "source": [
    "df.head()"
   ]
  },
  {
   "cell_type": "code",
   "execution_count": 37,
   "id": "22a545da",
   "metadata": {},
   "outputs": [],
   "source": [
    "spam_corpus=[]\n",
    "for i in df[df[\"Label\"]==1][\"new_body\"].tolist():\n",
    "    for word in i.split():\n",
    "        spam_corpus.append(word)"
   ]
  },
  {
   "cell_type": "code",
   "execution_count": 38,
   "id": "4ad10ea0",
   "metadata": {},
   "outputs": [
    {
     "data": {
      "text/plain": [
       "252422"
      ]
     },
     "execution_count": 38,
     "metadata": {},
     "output_type": "execute_result"
    }
   ],
   "source": [
    "len(spam_corpus)"
   ]
  },
  {
   "cell_type": "code",
   "execution_count": 39,
   "id": "a21d9e41",
   "metadata": {},
   "outputs": [
    {
     "name": "stderr",
     "output_type": "stream",
     "text": [
      "D:\\anaconda3\\lib\\site-packages\\seaborn\\_decorators.py:36: FutureWarning: Pass the following variables as keyword args: x, y. From version 0.12, the only valid positional argument will be `data`, and passing other arguments without an explicit keyword will result in an error or misinterpretation.\n",
      "  warnings.warn(\n"
     ]
    },
    {
     "data": {
      "image/png": "[encoded data removed]",
      "text/plain": [
       "<Figure size 720x720 with 1 Axes>"
      ]
     },
     "metadata": {
      "needs_background": "light"
     },
     "output_type": "display_data"
    }
   ],
   "source": [
    "from collections import Counter\n",
    "x=pd.DataFrame(Counter(spam_corpus).most_common(50))[0]\n",
    "y=pd.DataFrame(Counter(spam_corpus).most_common(50))[1]\n",
    "plt.figure(figsize=(10,10))\n",
    "sns.barplot(x,y)\n",
    "plt.xticks(rotation=90)\n",
    "plt.show()"
   ]
  },
  {
   "cell_type": "code",
   "execution_count": 40,
   "id": "b4ec69b2",
   "metadata": {},
   "outputs": [],
   "source": [
    "ham_corpus=[]\n",
    "for i in df[df[\"Label\"]==0][\"new_body\"].tolist():\n",
    "    for word in i.split():\n",
    "        ham_corpus.append(word)"
   ]
  },
  {
   "cell_type": "code",
   "execution_count": 41,
   "id": "811274d8",
   "metadata": {},
   "outputs": [
    {
     "data": {
      "text/plain": [
       "544803"
      ]
     },
     "execution_count": 41,
     "metadata": {},
     "output_type": "execute_result"
    }
   ],
   "source": [
    "len(ham_corpus)"
   ]
  },
  {
   "cell_type": "code",
   "execution_count": 42,
   "id": "23a4cbdd",
   "metadata": {},
   "outputs": [
    {
     "name": "stderr",
     "output_type": "stream",
     "text": [
      "D:\\anaconda3\\lib\\site-packages\\seaborn\\_decorators.py:36: FutureWarning: Pass the following variables as keyword args: x, y. From version 0.12, the only valid positional argument will be `data`, and passing other arguments without an explicit keyword will result in an error or misinterpretation.\n",
      "  warnings.warn(\n"
     ]
    },
    {
     "data": {
      "image/png": "[encoded data removed]",
      "text/plain": [
       "<Figure size 720x720 with 1 Axes>"
      ]
     },
     "metadata": {
      "needs_background": "light"
     },
     "output_type": "display_data"
    }
   ],
   "source": [
    "x1=pd.DataFrame(Counter(ham_corpus).most_common(50))[0]\n",
    "y1=pd.DataFrame(Counter(ham_corpus).most_common(50))[1]\n",
    "plt.figure(figsize=(10,10))\n",
    "sns.barplot(x1,y1)\n",
    "plt.xticks(rotation=90)\n",
    "plt.show()"
   ]
  },
  {
   "cell_type": "markdown",
   "id": "c702a985",
   "metadata": {},
   "source": [
    "# Model building"
   ]
  },
  {
   "cell_type": "code",
   "execution_count": 43,
   "id": "5c2c874e",
   "metadata": {},
   "outputs": [],
   "source": [
    "from sklearn.feature_extraction.text import CountVectorizer\n",
    "cv=CountVectorizer()"
   ]
  },
  {
   "cell_type": "code",
   "execution_count": 44,
   "id": "ccc0d3a4",
   "metadata": {},
   "outputs": [],
   "source": [
    "x=cv.fit_transform(df[\"new_body\"]).toarray()"
   ]
  },
  {
   "cell_type": "code",
   "execution_count": 45,
   "id": "015d35d1",
   "metadata": {},
   "outputs": [
    {
     "data": {
      "text/plain": [
       "(5293, 36890)"
      ]
     },
     "execution_count": 45,
     "metadata": {},
     "output_type": "execute_result"
    }
   ],
   "source": [
    "x.shape"
   ]
  },
  {
   "cell_type": "code",
   "execution_count": 46,
   "id": "fb1dacf7",
   "metadata": {},
   "outputs": [],
   "source": [
    "y=df[\"Label\"]"
   ]
  },
  {
   "cell_type": "code",
   "execution_count": 47,
   "id": "34ba013f",
   "metadata": {},
   "outputs": [
    {
     "data": {
      "text/plain": [
       "(5293,)"
      ]
     },
     "execution_count": 47,
     "metadata": {},
     "output_type": "execute_result"
    }
   ],
   "source": [
    "y.shape"
   ]
  },
  {
   "cell_type": "code",
   "execution_count": 48,
   "id": "49115e71",
   "metadata": {},
   "outputs": [],
   "source": [
    "from sklearn.model_selection import train_test_split\n",
    "\n",
    "x_train,x_test,y_train,y_test = train_test_split(x,y,test_size=0.2,random_state=2)"
   ]
  },
  {
   "cell_type": "code",
   "execution_count": 49,
   "id": "484eb6fd",
   "metadata": {},
   "outputs": [],
   "source": [
    "from sklearn.naive_bayes import GaussianNB,MultinomialNB,BernoulliNB"
   ]
  },
  {
   "cell_type": "code",
   "execution_count": 50,
   "id": "3a48e2aa",
   "metadata": {},
   "outputs": [],
   "source": [
    "from sklearn.metrics import accuracy_score, precision_score, confusion_matrix"
   ]
  },
  {
   "cell_type": "code",
   "execution_count": 51,
   "id": "29f74f3c",
   "metadata": {},
   "outputs": [],
   "source": [
    "gnb1=GaussianNB()\n",
    "mnb1=MultinomialNB()\n",
    "bnb1=BernoulliNB()"
   ]
  },
  {
   "cell_type": "code",
   "execution_count": 52,
   "id": "90c3a047",
   "metadata": {},
   "outputs": [
    {
     "name": "stdout",
     "output_type": "stream",
     "text": [
      "0.9357884796978282\n",
      "0.8645833333333334\n",
      "[[742  39]\n",
      " [ 29 249]]\n"
     ]
    }
   ],
   "source": [
    "gnb1.fit(x_train,y_train)\n",
    "y_pred=gnb1.predict(x_test)\n",
    "print(accuracy_score(y_pred,y_test))\n",
    "print(precision_score(y_pred,y_test))\n",
    "print(confusion_matrix(y_pred,y_test))"
   ]
  },
  {
   "cell_type": "code",
   "execution_count": 53,
   "id": "e4938ebd",
   "metadata": {},
   "outputs": [
    {
     "name": "stdout",
     "output_type": "stream",
     "text": [
      "0.9745042492917847\n",
      "0.9375\n",
      "[[762  18]\n",
      " [  9 270]]\n"
     ]
    }
   ],
   "source": [
    "mnb1.fit(x_train,y_train)\n",
    "y_pred1=mnb1.predict(x_test)\n",
    "print(accuracy_score(y_pred1,y_test))\n",
    "print(precision_score(y_pred1,y_test))\n",
    "print(confusion_matrix(y_pred1,y_test))"
   ]
  },
  {
   "cell_type": "code",
   "execution_count": 54,
   "id": "95d28b32",
   "metadata": {},
   "outputs": [
    {
     "name": "stdout",
     "output_type": "stream",
     "text": [
      "0.8932955618508026\n",
      "0.6979166666666666\n",
      "[[745  87]\n",
      " [ 26 201]]\n"
     ]
    }
   ],
   "source": [
    "bnb1.fit(x_train,y_train)\n",
    "y_pred2=bnb1.predict(x_test)\n",
    "print(accuracy_score(y_pred2,y_test))\n",
    "print(precision_score(y_pred2,y_test))\n",
    "print(confusion_matrix(y_pred2,y_test))"
   ]
  },
  {
   "cell_type": "markdown",
   "id": "c53aeae8",
   "metadata": {},
   "source": [
    "# using tfidf"
   ]
  },
  {
   "cell_type": "code",
   "execution_count": 55,
   "id": "e41a962e",
   "metadata": {},
   "outputs": [],
   "source": [
    "from sklearn.feature_extraction.text import TfidfVectorizer\n",
    "tfidf=TfidfVectorizer()"
   ]
  },
  {
   "cell_type": "code",
   "execution_count": 56,
   "id": "447cdc00",
   "metadata": {},
   "outputs": [],
   "source": [
    "x1=tfidf.fit_transform(df[\"new_body\"]).toarray()"
   ]
  },
  {
   "cell_type": "code",
   "execution_count": 57,
   "id": "ca0bb30c",
   "metadata": {},
   "outputs": [],
   "source": [
    "y1=df[\"Label\"]"
   ]
  },
  {
   "cell_type": "code",
   "execution_count": 58,
   "id": "ae41c2ef",
   "metadata": {},
   "outputs": [],
   "source": [
    "x_train,x_test,y_train,y_test = train_test_split(x1,y1,test_size=0.2,random_state=2)"
   ]
  },
  {
   "cell_type": "code",
   "execution_count": 59,
   "id": "3af4c127",
   "metadata": {},
   "outputs": [],
   "source": [
    "gnb=GaussianNB()\n",
    "mnb=MultinomialNB()\n",
    "bnb=BernoulliNB()"
   ]
  },
  {
   "cell_type": "code",
   "execution_count": 60,
   "id": "0c214b43",
   "metadata": {},
   "outputs": [
    {
     "name": "stdout",
     "output_type": "stream",
     "text": [
      "0.9348441926345609\n",
      "0.8506944444444444\n",
      "[[745  43]\n",
      " [ 26 245]]\n"
     ]
    }
   ],
   "source": [
    "gnb.fit(x_train,y_train)\n",
    "y_pred11=gnb.predict(x_test)\n",
    "print(accuracy_score(y_pred11,y_test))\n",
    "print(precision_score(y_pred11,y_test))\n",
    "print(confusion_matrix(y_pred11,y_test))"
   ]
  },
  {
   "cell_type": "code",
   "execution_count": 61,
   "id": "f31c8b82",
   "metadata": {},
   "outputs": [
    {
     "name": "stdout",
     "output_type": "stream",
     "text": [
      "0.9046270066100094\n",
      "0.6493055555555556\n",
      "[[771 101]\n",
      " [  0 187]]\n"
     ]
    }
   ],
   "source": [
    "mnb.fit(x_train,y_train)\n",
    "y_pred22=mnb.predict(x_test)\n",
    "print(accuracy_score(y_pred22,y_test))\n",
    "print(precision_score(y_pred22,y_test))\n",
    "print(confusion_matrix(y_pred22,y_test))"
   ]
  },
  {
   "cell_type": "code",
   "execution_count": 62,
   "id": "928d2e5c",
   "metadata": {},
   "outputs": [
    {
     "name": "stdout",
     "output_type": "stream",
     "text": [
      "0.8932955618508026\n",
      "0.6979166666666666\n",
      "[[745  87]\n",
      " [ 26 201]]\n"
     ]
    }
   ],
   "source": [
    "bnb.fit(x_train,y_train)\n",
    "y_pred33=bnb.predict(x_test)\n",
    "print(accuracy_score(y_pred33,y_test))\n",
    "print(precision_score(y_pred33,y_test))\n",
    "print(confusion_matrix(y_pred33,y_test))"
   ]
  },
  {
   "cell_type": "markdown",
   "id": "723335fa",
   "metadata": {},
   "source": [
    "# pickling"
   ]
  },
  {
   "cell_type": "code",
   "execution_count": 64,
   "id": "7cd6045a",
   "metadata": {},
   "outputs": [],
   "source": [
    "import pickle\n",
    "pickle.dump(cv,open(\"vectorizer.pkl\",\"wb\"))\n",
    "pickle.dump(mnb1,open(\"model.pkl\",\"wb\"))\n",
    "pickle.dump(transform,open(\"func.pkl\",\"wb\"))"
   ]
  },
  {
   "cell_type": "code",
   "execution_count": 69,
   "id": "282d72d2",
   "metadata": {
    "scrolled": true
   },
   "outputs": [
    {
     "data": {
      "text/plain": [
       "'Matthias Saou wrote:\\n> OK, I\\'ll add this.Cool :)> Requiring a file that isn\\'t part of an rpm is not possible, no, except\\n> maybe by stopping the build process if it isn\\'t found... but that\\'s errr...\\n> ugly!\\n> And I really think that for people who installed a kernel from sources, the\\n> easiest is to install the alsa kernel drivers from source too...Yes, it is...  But then alsa-driver requires alsa-kernel, and I don\\'t quite \\nlike --nodeps...> This would be a tricky one since to use the \"--with \" feature of\\n> rpmbuild, I think you\\'d need to add individual handling of each and every\\n> card :-/That\\'s ok.  I was only considering it for the sake of tweaking anyway, not \\nfor some real-world need :).> That\\'s what the \"alsa-driver\" is there for, create all the base files\\n> excluding the kernel drivers. What I would suggest for dependency reasons\\n> it to install an \"alsa-kernel\" for the original kernel (you\\'ve kept it,\\n> right? ;-)) and install ALSA modules from source for custom kernels built\\n> from source.Um...  I keep 2.4.18-12.2 for emergency sitations (like I forget to include \\nkeyboard support in kernel, dumb me), but alsa-kernel_2.4.18-10 does not \\nrequire kernel-2.4.18-10, so that\\'s ok.> Matthias-silent-- \\n... And on the seventh day, God was arrested for tresspassing.\\n_______________________________________________\\nRPM-List mailing list \\nhttp://lists.freshrpms.net/mailman/listinfo/rpm-list'"
      ]
     },
     "execution_count": 69,
     "metadata": {},
     "output_type": "execute_result"
    }
   ],
   "source": [
    "df.iloc[2386,0]"
   ]
  },
  {
   "cell_type": "code",
   "execution_count": null,
   "id": "436d06b0",
   "metadata": {},
   "outputs": [],
   "source": []
  }
 ],
 "metadata": {
  "kernelspec": {
   "display_name": "Python 3 (ipykernel)",
   "language": "python",
   "name": "python3"
  },
  "language_info": {
   "codemirror_mode": {
    "name": "ipython",
    "version": 3
   },
   "file_extension": ".py",
   "mimetype": "text/x-python",
   "name": "python",
   "nbconvert_exporter": "python",
   "pygments_lexer": "ipython3",
   "version": "3.9.7"
  }
 },
 "nbformat": 4,
 "nbformat_minor": 5
}
